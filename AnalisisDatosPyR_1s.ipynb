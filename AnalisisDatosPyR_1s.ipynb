{
 "cells": [
  {
   "cell_type": "markdown",
   "metadata": {
    "slideshow": {
     "slide_type": "-"
    }
   },
   "source": [
    "## Introducción al análisis de datos usando python y R"
   ]
  },
  {
   "cell_type": "markdown",
   "metadata": {},
   "source": [
    "### Sesión 1 \n",
    "#### 20 de abril, 2018. "
   ]
  },
  {
   "cell_type": "markdown",
   "metadata": {},
   "source": [
    "En esta sesión lo que haremos es usar la librería *tweepy* en python para acceder a Twitter y recolectar tuits desde el streaming filtrando por algunas palabras de nuestro interés.\n",
    "\n",
    "Todo lo que haremos es seguir la documentación de *tweepy* y guardaremos el resultado del stream en un csv."
   ]
  },
  {
   "cell_type": "code",
   "execution_count": null,
   "metadata": {},
   "outputs": [],
   "source": [
    "# Primero instalamos la librería.\n",
    "# Para hacer esto desde el notebook primero importamos sys\n",
    "\n",
    "import sys"
   ]
  },
  {
   "cell_type": "code",
   "execution_count": null,
   "metadata": {},
   "outputs": [],
   "source": [
    "# Ahora podemos instalar la librería usando el siguiente comando:\n",
    "\n",
    "!{sys.executable} -m pip install tweepy"
   ]
  },
  {
   "cell_type": "code",
   "execution_count": null,
   "metadata": {},
   "outputs": [],
   "source": [
    "# Las credenciales que obtuvimos al crear una aplicación en Tuiter las guardamos en un archivo credenciales.py\n",
    "# Las importamos para usarlas con la librería:\n",
    "\n",
    "import credenciales"
   ]
  },
  {
   "cell_type": "code",
   "execution_count": null,
   "metadata": {},
   "outputs": [],
   "source": [
    "# Ahora importamos la librería tweepy y vamos a iniciar la autenticación. Tweepy soporta autenticación tipo oauth\n",
    "\n",
    "import tweepy\n",
    "\n",
    "authentication = tweepy.OAuthHandler(credenciales.consumer_key, credenciales.consumer_secret)\n",
    "authentication.set_access_token(credenciales.access_token, credenciales.access_secret)\n",
    "\n",
    "# La clase API permite el uso de los métodosde la API REST de tuiter \n",
    "# http://tweepy.readthedocs.io/en/v3.6.0/getting_started.html\n",
    "\n",
    "api = tweepy.API(authentication)"
   ]
  },
  {
   "cell_type": "code",
   "execution_count": null,
   "metadata": {},
   "outputs": [],
   "source": [
    "# Vamos a probar la librería\n",
    "# Los ejemplos los obtenemos de la documentación: http://tweepy.readthedocs.io/en/v3.6.0/code_snippet.html\n",
    "\n",
    "for tweet in tweepy.Cursor(api.user_timeline).items(10):\n",
    "      print(tweet.text)"
   ]
  },
  {
   "cell_type": "code",
   "execution_count": null,
   "metadata": {},
   "outputs": [],
   "source": [
    "# Ahora vamos a juntar algunas cuentas para recuperar información de Twitter\n",
    "\n",
    "L=['ibm_mx', 'imate_unam', 'unam_mx' ] \n",
    "\n",
    "# Una cosa interesante que podemos recuperar es el número de seguidores usando followers_count\n",
    "\n",
    "for nombre in L:\n",
    "    usuario = api.get_user(nombre)\n",
    "    print(usuario.screen_name, usuario.followers_count)"
   ]
  },
  {
   "cell_type": "code",
   "execution_count": null,
   "metadata": {},
   "outputs": [],
   "source": [
    "# Ahora vamos a usar el streaming de Tuiter.\n",
    "\n",
    "# http://tweepy.readthedocs.io/en/v3.6.0/streaming_how_to.html\n",
    "\n",
    "\n",
    "import tweepy\n",
    "#override tweepy.StreamListener to add logic to on_status\n",
    "class MyStreamListener(tweepy.StreamListener):\n",
    "\n",
    "    def on_status(self, status):\n",
    "        print(status.text)"
   ]
  },
  {
   "cell_type": "code",
   "execution_count": null,
   "metadata": {},
   "outputs": [],
   "source": [
    "# Siguiendo la documentación, vemos que podemos crear un \"escuchador de Tuiter\" que va a manejar los tuits que vayan cayendo.\n",
    "# También necesitaremos una librería para leer los datos que vienen en formato json\n",
    "# Vamos a crear una carpeta llamada \"datos\" para ir guardando lo que recuperamos.\n",
    "\n",
    "import json\n",
    "\n",
    "from tweepy import Stream\n",
    "from tweepy.streaming import StreamListener\n",
    "\n",
    "class TwitterListener(StreamListener):\n",
    "\n",
    "    def on_data(self,data):\n",
    "        tweet=json.loads(str(data))\n",
    "        print(tweet['text'])\n",
    "        with open(\"./datos/streamin.json\",\"a\") as archivo:\n",
    "            archivo.write(json.dumps(tweet))\n",
    "            archivo.write('\\n')\n",
    "        return(True)\n",
    "\n",
    "    def on_error(self, status):\n",
    "        print(status)\n",
    "\n",
    "try:\n",
    "            twitter_stream = Stream(authentication, TwitterListener())\n",
    "            twitter_stream.filter(track=['#Debate'], async=True) #En este punto ponemos las palabras que vamos a restrear\n",
    "except:\n",
    "            pass"
   ]
  },
  {
   "cell_type": "code",
   "execution_count": null,
   "metadata": {},
   "outputs": [],
   "source": [
    "# La información quehemos obtenido la vamos a gurdar en un archivo csv\n",
    "# algunas variables de interés son: el texto del tuit, el usuario y la fecha de creación\n",
    "# pueden ir guardando más datos según los necesiten\n",
    "\n",
    "import csv\n",
    "import json\n",
    "\n",
    "fields = ['created_at', 'user', 'text']\n",
    "\n",
    "tweets = []\n",
    "with open(\"datos/streamin.json\") as infile:\n",
    "    for line in infile:\n",
    "        tweet = json.loads(line)\n",
    "        information = []\n",
    "        for field in fields:\n",
    "            if field not in tweet:\n",
    "                information.append('')\n",
    "            elif field == 'user':\n",
    "                information.append(tweet['user']['screen_name'])\n",
    "                information.append(tweet['user']['id']) # Dentro de 'user' hay más información que solo el nombre del tuitero\n",
    "            else:\n",
    "                information.append(tweet[field])\n",
    "        tweets.append(information)\n",
    "\n",
    "with open(\"datos/streamin.csv\", \"w\",encoding='utf-16') as outfile:\n",
    "    csvwriter = csv.writer(outfile)\n",
    "    csvwriter.writerow(['created_at', 'screen_name','id', 'text']) \n",
    "    csvwriter.writerows(tweets)"
   ]
  },
  {
   "cell_type": "markdown",
   "metadata": {},
   "source": [
    "Con el csv guardado ya podemos iniciar nuestro análisis. Sin embargo, es importante resaltar que esta búsqueda es muy básica y la librería de *tweepy* tiene mucho más que ofrecernos.\n",
    "\n",
    "También es importante recordar, habrá errores que de vez en cuando saldrán debido a las limitaciones de la API de tuiter y es importante tenerlas en cuenta cuando hagamos el rastreo de las campañas que nos interesan.\n",
    "\n",
    "Todo lo que hemos hecho ha sido siguiendo la documentación de *Tweepy*, solo hemos agregado cuentas que nos interesan.\n",
    "El paso a csv es común y pueden buscar varias referencias en la web.\n",
    "\n",
    "\n",
    "#### Referencias extra\n",
    "\n",
    "http://tweepy.readthedocs.io/en/v3.6.0/api.html#tweepy-error-exceptions\n",
    "\n",
    "http://datacandy.github.io/warwick/datastream/index.html"
   ]
  }
 ],
 "metadata": {
  "celltoolbar": "Slideshow",
  "kernelspec": {
   "display_name": "Python 3",
   "language": "python",
   "name": "python3"
  },
  "language_info": {
   "codemirror_mode": {
    "name": "ipython",
    "version": 3
   },
   "file_extension": ".py",
   "mimetype": "text/x-python",
   "name": "python",
   "nbconvert_exporter": "python",
   "pygments_lexer": "ipython3",
   "version": "3.6.4"
  }
 },
 "nbformat": 4,
 "nbformat_minor": 2
}
